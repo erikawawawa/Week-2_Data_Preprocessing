{
  "nbformat": 4,
  "nbformat_minor": 0,
  "metadata": {
    "colab": {
      "provenance": [],
      "authorship_tag": "ABX9TyOLVBR4XIHnDFJYc0Q6LHgg",
      "include_colab_link": true
    },
    "kernelspec": {
      "name": "python3",
      "display_name": "Python 3"
    },
    "language_info": {
      "name": "python"
    }
  },
  "cells": [
    {
      "cell_type": "markdown",
      "metadata": {
        "id": "view-in-github",
        "colab_type": "text"
      },
      "source": [
        "<a href=\"https://colab.research.google.com/github/erikawawawa/Week-2_Data_Preprocessing/blob/main/ErikaWang_Week2_Data_Preprocessing.ipynb\" target=\"_parent\"><img src=\"https://colab.research.google.com/assets/colab-badge.svg\" alt=\"Open In Colab\"/></a>"
      ]
    },
    {
      "cell_type": "markdown",
      "source": [
        "**For Ugrads: use EMODB and merge with RAVDESS; For Grads: Use any of the other datasets, or find your own or create your own emotional voice data (using your own voice recording) and merge that with RAVDESS dataset.**\n",
        "\n",
        "Hand-sorted files inside my google drive, with the following file structure:\n",
        "\n",
        "![Untitled.png](data:image/png;base64,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)"
      ],
      "metadata": {
        "id": "v81np3v2_sv1"
      }
    },
    {
      "cell_type": "markdown",
      "source": [
        "### **Write about how you handled category mismatches and why.**"
      ],
      "metadata": {
        "id": "-yoAGjmc_5Ng"
      }
    },
    {
      "cell_type": "markdown",
      "source": [
        "**RAVDESS:**\n",
        "- Disregarded fields such as modality, vocal channel, because for this assignment, we were only handling one type.\n",
        "- Disregarded emotional intensity, statement, repetition, and sex of actor as I felt it did not match the purpose of this assignment: Regardless of how it may alter delivery, the above factors do not change what emotion category each wav file it belongs to, and thus is not what we need to analyze.\n",
        "\n",
        "**EmoDB:**\n",
        "- Disregarded 'actor number, 'code for text', and 'version', as it does not alter what emotion category each wav file belongs to.\n",
        "\n",
        "**Matching emotions:**\n",
        "- In pairing emotion categories between RAVDESS and EmoDB, most categories felt like they were a given, as they more or less had the same titles.\n",
        "-- 01 = N (Neutral)\n",
        "-- 03 = F (Happy)\n",
        "-- 04 = T (Sadness)\n",
        "-- 05 = W (Anger)\n",
        "-- 06 = A (Fear or anxiety)\n",
        "-- 07 = E (Disgust)\n",
        "\n",
        "\n",
        "- The two categories to be noted, however are:\n",
        "-- 02 = L (Calm = boredom):\n",
        "-- While it it possible to be calm but not bored, I felt that in order to be bored, one first has to be calm. Thus, I feel that the emotion of boredom falls under 'calm', which is reflected in how data was merged in this database.\n",
        "-- 08 (Surprise) = Did not correlate to any categories from EmoDB, therefore became a standalone category."
      ],
      "metadata": {
        "id": "so5T_oTi_24E"
      }
    },
    {
      "cell_type": "markdown",
      "source": [
        "### **Analyze the data in terms of gender balance and emotional category balance, show in a graph or visual representation and comment 1-2 sentences on the possible impact of them both.**"
      ],
      "metadata": {
        "id": "8LWspXFg__Px"
      }
    },
    {
      "cell_type": "code",
      "source": [
        "from google.colab import drive\n",
        "drive.mount('/content/drive')"
      ],
      "metadata": {
        "colab": {
          "base_uri": "https://localhost:8080/"
        },
        "id": "JS1mZB5qAV1A",
        "outputId": "0bb45bb2-4913-4af7-f290-3e7ccd7f8c4e"
      },
      "execution_count": 2,
      "outputs": [
        {
          "output_type": "stream",
          "name": "stdout",
          "text": [
            "Mounted at /content/drive\n"
          ]
        }
      ]
    },
    {
      "cell_type": "code",
      "source": [
        "# Get the critical imports out of the way\n",
        "import matplotlib.pyplot as plt\n",
        "import pandas as pd\n",
        "import numpy as np\n",
        "import librosa.display\n",
        "import soundfile\n",
        "import os\n",
        "# matplotlib complains about the behaviour of librosa.display, so we'll ignore those warnings:\n",
        "import warnings; warnings.filterwarnings('ignore')\n",
        "from IPython.core.display import HTML\n",
        "# Center matplotlib figures...\n",
        "HTML(\"\"\"\n",
        "<style>\n",
        ".output_png {\n",
        "    display: table-cell;\n",
        "    text-align: center;\n",
        "    vertical-align: middle;\n",
        "}\n",
        "</style>\n",
        "\"\"\")"
      ],
      "metadata": {
        "colab": {
          "base_uri": "https://localhost:8080/",
          "height": 17
        },
        "id": "RlFlUE32AIln",
        "outputId": "e2981a9b-645f-4d18-c9a4-88a1c20d2b1a"
      },
      "execution_count": 3,
      "outputs": [
        {
          "output_type": "execute_result",
          "data": {
            "text/plain": [
              "<IPython.core.display.HTML object>"
            ],
            "text/html": [
              "\n",
              "<style>\n",
              ".output_png {\n",
              "    display: table-cell;\n",
              "    text-align: center;\n",
              "    vertical-align: middle;\n",
              "}\n",
              "</style>\n"
            ]
          },
          "metadata": {},
          "execution_count": 3
        }
      ]
    },
    {
      "cell_type": "markdown",
      "source": [
        "**Count the total number of files, total number of male, females, and total of male/female split per category as well as the total:**"
      ],
      "metadata": {
        "id": "VT2i_wDbBsSK"
      }
    },
    {
      "cell_type": "code",
      "source": [
        "def load_mergedDB():\n",
        "\n",
        "    count = 0\n",
        "    count2 = 0\n",
        "    count3 = 0\n",
        "\n",
        "    for file in glob.glob(\"/content/drive/MyDrive/IAT481/Merged database/*/*/*.wav\"):\n",
        "        count += 1\n",
        "\n",
        "\n",
        "    for file in glob.glob(\"/content/drive/MyDrive/IAT481/Merged database/*/Female/*.wav\"):\n",
        "        count2 += 1\n",
        "\n",
        "    for file in glob.glob(\"/content/drive/MyDrive/IAT481/Merged database/*/Male/*.wav\"):\n",
        "        count3 += 1\n",
        "\n",
        "    print('\\r' + f' Total: {count} audio samples,', f'Female: {count2},', f'Male: {count3}', end=' ')\n",
        "    return count, count2, count3\n",
        "\n",
        "def load_females():\n",
        "    females = 0\n",
        "\n",
        "    for file in glob.glob(\"/content/drive/MyDrive/IAT481/Merged database/*/Female/*.wav\"):\n",
        "          females += 1\n",
        "          # females.append()\n",
        "    return females\n",
        "\n",
        "def load_males():\n",
        "    males = 0\n",
        "\n",
        "    for file in glob.glob(\"/content/drive/MyDrive/IAT481/Merged database/*/Male/*.wav\"):\n",
        "          males += 1\n",
        "          # females.append()\n",
        "    return males\n",
        "\n",
        "load_females(), load_males(), load_mergedDB()"
      ],
      "metadata": {
        "colab": {
          "base_uri": "https://localhost:8080/"
        },
        "id": "1poCFsEyBFCm",
        "outputId": "62974c46-4578-4d61-948e-68a504f8d886"
      },
      "execution_count": 8,
      "outputs": [
        {
          "output_type": "stream",
          "name": "stdout",
          "text": [
            "\r Total: 1970 audio samples, Female: 1021, Male: 949 "
          ]
        },
        {
          "output_type": "execute_result",
          "data": {
            "text/plain": [
              "(1021, 949, (1970, 1021, 949))"
            ]
          },
          "metadata": {},
          "execution_count": 8
        }
      ]
    },
    {
      "cell_type": "code",
      "source": [
        "      count = 0\n",
        "      count2 = 0\n",
        "      count3 = 0\n",
        "\n",
        "      for file in glob.glob(\"/content/drive/MyDrive/IAT481/Merged database/01 Neutral/*/*.wav\"):\n",
        "          count += 1\n",
        "\n",
        "      for file in glob.glob(\"/content/drive/MyDrive/IAT481/Merged database/01 Neutral/Female/*.wav\"):\n",
        "          count2 += 1\n",
        "\n",
        "      for file in glob.glob(\"/content/drive/MyDrive/IAT481/Merged database/01 Neutral/Male/*.wav\"):\n",
        "          count3 += 1\n",
        "\n",
        "      print('\\r' + f' Neutral: {count} audio samples,', f'Female: {count2},', f'Male: {count3}', end=' ')"
      ],
      "metadata": {
        "colab": {
          "base_uri": "https://localhost:8080/"
        },
        "id": "qwoYggZTBPNu",
        "outputId": "bbcbf9ea-0224-403c-c086-bd8015d23a9d"
      },
      "execution_count": 9,
      "outputs": [
        {
          "output_type": "stream",
          "name": "stdout",
          "text": [
            "\r Neutral: 175 audio samples, Female: 89, Male: 86 "
          ]
        }
      ]
    },
    {
      "cell_type": "code",
      "source": [
        "count = 0\n",
        "count2 = 0\n",
        "count3 = 0\n",
        "\n",
        "for file in glob.glob(\"/content/drive/MyDrive/IAT481/Merged database/02 L Calm/*/*.wav\"):\n",
        "    count += 1\n",
        "\n",
        "for file in glob.glob(\"/content/drive/MyDrive/IAT481/Merged database/02 L Calm/Female/*.wav\"):\n",
        "    count2 += 1\n",
        "\n",
        "for file in glob.glob(\"/content/drive/MyDrive/IAT481/Merged database/02 L Calm/Male/*.wav\"):\n",
        "    count3 += 1\n",
        "\n",
        "    print('\\r' + f' Calm: {count} audio samples,', f'Female: {count2},', f'Male: {count3}', end=' ')"
      ],
      "metadata": {
        "colab": {
          "base_uri": "https://localhost:8080/"
        },
        "id": "gqUDguW_BSNs",
        "outputId": "8bd73320-a4ce-48a3-f4c2-461444906489"
      },
      "execution_count": 10,
      "outputs": [
        {
          "output_type": "stream",
          "name": "stdout",
          "text": [
            "\r Calm: 271 audio samples, Female: 142, Male: 1 \r Calm: 271 audio samples, Female: 142, Male: 2 \r Calm: 271 audio samples, Female: 142, Male: 3 \r Calm: 271 audio samples, Female: 142, Male: 4 \r Calm: 271 audio samples, Female: 142, Male: 5 \r Calm: 271 audio samples, Female: 142, Male: 6 \r Calm: 271 audio samples, Female: 142, Male: 7 \r Calm: 271 audio samples, Female: 142, Male: 8 \r Calm: 271 audio samples, Female: 142, Male: 9 \r Calm: 271 audio samples, Female: 142, Male: 10 \r Calm: 271 audio samples, Female: 142, Male: 11 \r Calm: 271 audio samples, Female: 142, Male: 12 \r Calm: 271 audio samples, Female: 142, Male: 13 \r Calm: 271 audio samples, Female: 142, Male: 14 \r Calm: 271 audio samples, Female: 142, Male: 15 \r Calm: 271 audio samples, Female: 142, Male: 16 \r Calm: 271 audio samples, Female: 142, Male: 17 \r Calm: 271 audio samples, Female: 142, Male: 18 \r Calm: 271 audio samples, Female: 142, Male: 19 \r Calm: 271 audio samples, Female: 142, Male: 20 \r Calm: 271 audio samples, Female: 142, Male: 21 \r Calm: 271 audio samples, Female: 142, Male: 22 \r Calm: 271 audio samples, Female: 142, Male: 23 \r Calm: 271 audio samples, Female: 142, Male: 24 \r Calm: 271 audio samples, Female: 142, Male: 25 \r Calm: 271 audio samples, Female: 142, Male: 26 \r Calm: 271 audio samples, Female: 142, Male: 27 \r Calm: 271 audio samples, Female: 142, Male: 28 \r Calm: 271 audio samples, Female: 142, Male: 29 \r Calm: 271 audio samples, Female: 142, Male: 30 \r Calm: 271 audio samples, Female: 142, Male: 31 \r Calm: 271 audio samples, Female: 142, Male: 32 \r Calm: 271 audio samples, Female: 142, Male: 33 \r Calm: 271 audio samples, Female: 142, Male: 34 \r Calm: 271 audio samples, Female: 142, Male: 35 \r Calm: 271 audio samples, Female: 142, Male: 36 \r Calm: 271 audio samples, Female: 142, Male: 37 \r Calm: 271 audio samples, Female: 142, Male: 38 \r Calm: 271 audio samples, Female: 142, Male: 39 \r Calm: 271 audio samples, Female: 142, Male: 40 \r Calm: 271 audio samples, Female: 142, Male: 41 \r Calm: 271 audio samples, Female: 142, Male: 42 \r Calm: 271 audio samples, Female: 142, Male: 43 \r Calm: 271 audio samples, Female: 142, Male: 44 \r Calm: 271 audio samples, Female: 142, Male: 45 \r Calm: 271 audio samples, Female: 142, Male: 46 \r Calm: 271 audio samples, Female: 142, Male: 47 \r Calm: 271 audio samples, Female: 142, Male: 48 \r Calm: 271 audio samples, Female: 142, Male: 49 \r Calm: 271 audio samples, Female: 142, Male: 50 \r Calm: 271 audio samples, Female: 142, Male: 51 \r Calm: 271 audio samples, Female: 142, Male: 52 \r Calm: 271 audio samples, Female: 142, Male: 53 \r Calm: 271 audio samples, Female: 142, Male: 54 \r Calm: 271 audio samples, Female: 142, Male: 55 \r Calm: 271 audio samples, Female: 142, Male: 56 \r Calm: 271 audio samples, Female: 142, Male: 57 \r Calm: 271 audio samples, Female: 142, Male: 58 \r Calm: 271 audio samples, Female: 142, Male: 59 \r Calm: 271 audio samples, Female: 142, Male: 60 \r Calm: 271 audio samples, Female: 142, Male: 61 \r Calm: 271 audio samples, Female: 142, Male: 62 \r Calm: 271 audio samples, Female: 142, Male: 63 \r Calm: 271 audio samples, Female: 142, Male: 64 \r Calm: 271 audio samples, Female: 142, Male: 65 \r Calm: 271 audio samples, Female: 142, Male: 66 \r Calm: 271 audio samples, Female: 142, Male: 67 \r Calm: 271 audio samples, Female: 142, Male: 68 \r Calm: 271 audio samples, Female: 142, Male: 69 \r Calm: 271 audio samples, Female: 142, Male: 70 \r Calm: 271 audio samples, Female: 142, Male: 71 \r Calm: 271 audio samples, Female: 142, Male: 72 \r Calm: 271 audio samples, Female: 142, Male: 73 \r Calm: 271 audio samples, Female: 142, Male: 74 \r Calm: 271 audio samples, Female: 142, Male: 75 \r Calm: 271 audio samples, Female: 142, Male: 76 \r Calm: 271 audio samples, Female: 142, Male: 77 \r Calm: 271 audio samples, Female: 142, Male: 78 \r Calm: 271 audio samples, Female: 142, Male: 79 \r Calm: 271 audio samples, Female: 142, Male: 80 \r Calm: 271 audio samples, Female: 142, Male: 81 \r Calm: 271 audio samples, Female: 142, Male: 82 \r Calm: 271 audio samples, Female: 142, Male: 83 \r Calm: 271 audio samples, Female: 142, Male: 84 \r Calm: 271 audio samples, Female: 142, Male: 85 \r Calm: 271 audio samples, Female: 142, Male: 86 \r Calm: 271 audio samples, Female: 142, Male: 87 \r Calm: 271 audio samples, Female: 142, Male: 88 \r Calm: 271 audio samples, Female: 142, Male: 89 \r Calm: 271 audio samples, Female: 142, Male: 90 \r Calm: 271 audio samples, Female: 142, Male: 91 \r Calm: 271 audio samples, Female: 142, Male: 92 \r Calm: 271 audio samples, Female: 142, Male: 93 \r Calm: 271 audio samples, Female: 142, Male: 94 \r Calm: 271 audio samples, Female: 142, Male: 95 \r Calm: 271 audio samples, Female: 142, Male: 96 \r Calm: 271 audio samples, Female: 142, Male: 97 \r Calm: 271 audio samples, Female: 142, Male: 98 \r Calm: 271 audio samples, Female: 142, Male: 99 \r Calm: 271 audio samples, Female: 142, Male: 100 \r Calm: 271 audio samples, Female: 142, Male: 101 \r Calm: 271 audio samples, Female: 142, Male: 102 \r Calm: 271 audio samples, Female: 142, Male: 103 \r Calm: 271 audio samples, Female: 142, Male: 104 \r Calm: 271 audio samples, Female: 142, Male: 105 \r Calm: 271 audio samples, Female: 142, Male: 106 \r Calm: 271 audio samples, Female: 142, Male: 107 \r Calm: 271 audio samples, Female: 142, Male: 108 \r Calm: 271 audio samples, Female: 142, Male: 109 \r Calm: 271 audio samples, Female: 142, Male: 110 \r Calm: 271 audio samples, Female: 142, Male: 111 \r Calm: 271 audio samples, Female: 142, Male: 112 \r Calm: 271 audio samples, Female: 142, Male: 113 \r Calm: 271 audio samples, Female: 142, Male: 114 \r Calm: 271 audio samples, Female: 142, Male: 115 \r Calm: 271 audio samples, Female: 142, Male: 116 \r Calm: 271 audio samples, Female: 142, Male: 117 \r Calm: 271 audio samples, Female: 142, Male: 118 \r Calm: 271 audio samples, Female: 142, Male: 119 \r Calm: 271 audio samples, Female: 142, Male: 120 \r Calm: 271 audio samples, Female: 142, Male: 121 \r Calm: 271 audio samples, Female: 142, Male: 122 \r Calm: 271 audio samples, Female: 142, Male: 123 \r Calm: 271 audio samples, Female: 142, Male: 124 \r Calm: 271 audio samples, Female: 142, Male: 125 \r Calm: 271 audio samples, Female: 142, Male: 126 \r Calm: 271 audio samples, Female: 142, Male: 127 \r Calm: 271 audio samples, Female: 142, Male: 128 \r Calm: 271 audio samples, Female: 142, Male: 129 "
          ]
        }
      ]
    },
    {
      "cell_type": "code",
      "source": [
        "    count = 0\n",
        "    count2 = 0\n",
        "    count3 = 0\n",
        "\n",
        "    for file in glob.glob(\"/content/drive/MyDrive/IAT481/Merged database/03 F Happiness/*/*.wav\"):\n",
        "        count += 1\n",
        "\n",
        "    for file in glob.glob(\"/content/drive/MyDrive/IAT481/Merged database/03 F Happiness/Female/*.wav\"):\n",
        "        count2 += 1\n",
        "\n",
        "    for file in glob.glob(\"/content/drive/MyDrive/IAT481/Merged database/03 F Happiness/Male/*.wav\"):\n",
        "        count3 += 1\n",
        "\n",
        "        print('\\r' + f' Happy: {count} audio samples,', f'Female: {count2},', f'Male: {count3}', end=' ')"
      ],
      "metadata": {
        "colab": {
          "base_uri": "https://localhost:8080/"
        },
        "id": "glbhVhUBBTo1",
        "outputId": "266b9de9-5a2a-4c5a-8993-867e08e30deb"
      },
      "execution_count": 11,
      "outputs": [
        {
          "output_type": "stream",
          "name": "stdout",
          "text": [
            "\r Happy: 262 audio samples, Female: 139, Male: 1 \r Happy: 262 audio samples, Female: 139, Male: 2 \r Happy: 262 audio samples, Female: 139, Male: 3 \r Happy: 262 audio samples, Female: 139, Male: 4 \r Happy: 262 audio samples, Female: 139, Male: 5 \r Happy: 262 audio samples, Female: 139, Male: 6 \r Happy: 262 audio samples, Female: 139, Male: 7 \r Happy: 262 audio samples, Female: 139, Male: 8 \r Happy: 262 audio samples, Female: 139, Male: 9 \r Happy: 262 audio samples, Female: 139, Male: 10 \r Happy: 262 audio samples, Female: 139, Male: 11 \r Happy: 262 audio samples, Female: 139, Male: 12 \r Happy: 262 audio samples, Female: 139, Male: 13 \r Happy: 262 audio samples, Female: 139, Male: 14 \r Happy: 262 audio samples, Female: 139, Male: 15 \r Happy: 262 audio samples, Female: 139, Male: 16 \r Happy: 262 audio samples, Female: 139, Male: 17 \r Happy: 262 audio samples, Female: 139, Male: 18 \r Happy: 262 audio samples, Female: 139, Male: 19 \r Happy: 262 audio samples, Female: 139, Male: 20 \r Happy: 262 audio samples, Female: 139, Male: 21 \r Happy: 262 audio samples, Female: 139, Male: 22 \r Happy: 262 audio samples, Female: 139, Male: 23 \r Happy: 262 audio samples, Female: 139, Male: 24 \r Happy: 262 audio samples, Female: 139, Male: 25 \r Happy: 262 audio samples, Female: 139, Male: 26 \r Happy: 262 audio samples, Female: 139, Male: 27 \r Happy: 262 audio samples, Female: 139, Male: 28 \r Happy: 262 audio samples, Female: 139, Male: 29 \r Happy: 262 audio samples, Female: 139, Male: 30 \r Happy: 262 audio samples, Female: 139, Male: 31 \r Happy: 262 audio samples, Female: 139, Male: 32 \r Happy: 262 audio samples, Female: 139, Male: 33 \r Happy: 262 audio samples, Female: 139, Male: 34 \r Happy: 262 audio samples, Female: 139, Male: 35 \r Happy: 262 audio samples, Female: 139, Male: 36 \r Happy: 262 audio samples, Female: 139, Male: 37 \r Happy: 262 audio samples, Female: 139, Male: 38 \r Happy: 262 audio samples, Female: 139, Male: 39 \r Happy: 262 audio samples, Female: 139, Male: 40 \r Happy: 262 audio samples, Female: 139, Male: 41 \r Happy: 262 audio samples, Female: 139, Male: 42 \r Happy: 262 audio samples, Female: 139, Male: 43 \r Happy: 262 audio samples, Female: 139, Male: 44 \r Happy: 262 audio samples, Female: 139, Male: 45 \r Happy: 262 audio samples, Female: 139, Male: 46 \r Happy: 262 audio samples, Female: 139, Male: 47 \r Happy: 262 audio samples, Female: 139, Male: 48 \r Happy: 262 audio samples, Female: 139, Male: 49 \r Happy: 262 audio samples, Female: 139, Male: 50 \r Happy: 262 audio samples, Female: 139, Male: 51 \r Happy: 262 audio samples, Female: 139, Male: 52 \r Happy: 262 audio samples, Female: 139, Male: 53 \r Happy: 262 audio samples, Female: 139, Male: 54 \r Happy: 262 audio samples, Female: 139, Male: 55 \r Happy: 262 audio samples, Female: 139, Male: 56 \r Happy: 262 audio samples, Female: 139, Male: 57 \r Happy: 262 audio samples, Female: 139, Male: 58 \r Happy: 262 audio samples, Female: 139, Male: 59 \r Happy: 262 audio samples, Female: 139, Male: 60 \r Happy: 262 audio samples, Female: 139, Male: 61 \r Happy: 262 audio samples, Female: 139, Male: 62 \r Happy: 262 audio samples, Female: 139, Male: 63 \r Happy: 262 audio samples, Female: 139, Male: 64 \r Happy: 262 audio samples, Female: 139, Male: 65 \r Happy: 262 audio samples, Female: 139, Male: 66 \r Happy: 262 audio samples, Female: 139, Male: 67 \r Happy: 262 audio samples, Female: 139, Male: 68 \r Happy: 262 audio samples, Female: 139, Male: 69 \r Happy: 262 audio samples, Female: 139, Male: 70 \r Happy: 262 audio samples, Female: 139, Male: 71 \r Happy: 262 audio samples, Female: 139, Male: 72 \r Happy: 262 audio samples, Female: 139, Male: 73 \r Happy: 262 audio samples, Female: 139, Male: 74 \r Happy: 262 audio samples, Female: 139, Male: 75 \r Happy: 262 audio samples, Female: 139, Male: 76 \r Happy: 262 audio samples, Female: 139, Male: 77 \r Happy: 262 audio samples, Female: 139, Male: 78 \r Happy: 262 audio samples, Female: 139, Male: 79 \r Happy: 262 audio samples, Female: 139, Male: 80 \r Happy: 262 audio samples, Female: 139, Male: 81 \r Happy: 262 audio samples, Female: 139, Male: 82 \r Happy: 262 audio samples, Female: 139, Male: 83 \r Happy: 262 audio samples, Female: 139, Male: 84 \r Happy: 262 audio samples, Female: 139, Male: 85 \r Happy: 262 audio samples, Female: 139, Male: 86 \r Happy: 262 audio samples, Female: 139, Male: 87 \r Happy: 262 audio samples, Female: 139, Male: 88 \r Happy: 262 audio samples, Female: 139, Male: 89 \r Happy: 262 audio samples, Female: 139, Male: 90 \r Happy: 262 audio samples, Female: 139, Male: 91 \r Happy: 262 audio samples, Female: 139, Male: 92 \r Happy: 262 audio samples, Female: 139, Male: 93 \r Happy: 262 audio samples, Female: 139, Male: 94 \r Happy: 262 audio samples, Female: 139, Male: 95 \r Happy: 262 audio samples, Female: 139, Male: 96 \r Happy: 262 audio samples, Female: 139, Male: 97 \r Happy: 262 audio samples, Female: 139, Male: 98 \r Happy: 262 audio samples, Female: 139, Male: 99 \r Happy: 262 audio samples, Female: 139, Male: 100 \r Happy: 262 audio samples, Female: 139, Male: 101 \r Happy: 262 audio samples, Female: 139, Male: 102 \r Happy: 262 audio samples, Female: 139, Male: 103 \r Happy: 262 audio samples, Female: 139, Male: 104 \r Happy: 262 audio samples, Female: 139, Male: 105 \r Happy: 262 audio samples, Female: 139, Male: 106 \r Happy: 262 audio samples, Female: 139, Male: 107 \r Happy: 262 audio samples, Female: 139, Male: 108 \r Happy: 262 audio samples, Female: 139, Male: 109 \r Happy: 262 audio samples, Female: 139, Male: 110 \r Happy: 262 audio samples, Female: 139, Male: 111 \r Happy: 262 audio samples, Female: 139, Male: 112 \r Happy: 262 audio samples, Female: 139, Male: 113 \r Happy: 262 audio samples, Female: 139, Male: 114 \r Happy: 262 audio samples, Female: 139, Male: 115 \r Happy: 262 audio samples, Female: 139, Male: 116 \r Happy: 262 audio samples, Female: 139, Male: 117 \r Happy: 262 audio samples, Female: 139, Male: 118 \r Happy: 262 audio samples, Female: 139, Male: 119 \r Happy: 262 audio samples, Female: 139, Male: 120 \r Happy: 262 audio samples, Female: 139, Male: 121 \r Happy: 262 audio samples, Female: 139, Male: 122 \r Happy: 262 audio samples, Female: 139, Male: 123 "
          ]
        }
      ]
    },
    {
      "cell_type": "code",
      "source": [
        "    count = 0\n",
        "    count2 = 0\n",
        "    count3 = 0\n",
        "\n",
        "    for file in glob.glob(\"/content/drive/MyDrive/IAT481/Merged database/04 T Sadness/*/*.wav\"):\n",
        "        count += 1\n",
        "\n",
        "    for file in glob.glob(\"/content/drive/MyDrive/IAT481/Merged database/04 T Sadness/Female/*.wav\"):\n",
        "        count2 += 1\n",
        "\n",
        "    for file in glob.glob(\"/content/drive/MyDrive/IAT481/Merged database/04 T Sadness/Male/*.wav\"):\n",
        "        count3 += 1\n",
        "\n",
        "        print('\\r' + f' Sad: {count} audio samples,', f'Female: {count2},', f'Male: {count3}', end=' ')"
      ],
      "metadata": {
        "colab": {
          "base_uri": "https://localhost:8080/"
        },
        "id": "CyA5B14fBVfL",
        "outputId": "5d65872a-9356-4490-d2dc-bd279f760360"
      },
      "execution_count": 16,
      "outputs": [
        {
          "output_type": "stream",
          "name": "stdout",
          "text": [
            "\r Sad: 254 audio samples, Female: 133, Male: 1 \r Sad: 254 audio samples, Female: 133, Male: 2 \r Sad: 254 audio samples, Female: 133, Male: 3 \r Sad: 254 audio samples, Female: 133, Male: 4 \r Sad: 254 audio samples, Female: 133, Male: 5 \r Sad: 254 audio samples, Female: 133, Male: 6 \r Sad: 254 audio samples, Female: 133, Male: 7 \r Sad: 254 audio samples, Female: 133, Male: 8 \r Sad: 254 audio samples, Female: 133, Male: 9 \r Sad: 254 audio samples, Female: 133, Male: 10 \r Sad: 254 audio samples, Female: 133, Male: 11 \r Sad: 254 audio samples, Female: 133, Male: 12 \r Sad: 254 audio samples, Female: 133, Male: 13 \r Sad: 254 audio samples, Female: 133, Male: 14 \r Sad: 254 audio samples, Female: 133, Male: 15 \r Sad: 254 audio samples, Female: 133, Male: 16 \r Sad: 254 audio samples, Female: 133, Male: 17 \r Sad: 254 audio samples, Female: 133, Male: 18 \r Sad: 254 audio samples, Female: 133, Male: 19 \r Sad: 254 audio samples, Female: 133, Male: 20 \r Sad: 254 audio samples, Female: 133, Male: 21 \r Sad: 254 audio samples, Female: 133, Male: 22 \r Sad: 254 audio samples, Female: 133, Male: 23 \r Sad: 254 audio samples, Female: 133, Male: 24 \r Sad: 254 audio samples, Female: 133, Male: 25 \r Sad: 254 audio samples, Female: 133, Male: 26 \r Sad: 254 audio samples, Female: 133, Male: 27 \r Sad: 254 audio samples, Female: 133, Male: 28 \r Sad: 254 audio samples, Female: 133, Male: 29 \r Sad: 254 audio samples, Female: 133, Male: 30 \r Sad: 254 audio samples, Female: 133, Male: 31 \r Sad: 254 audio samples, Female: 133, Male: 32 \r Sad: 254 audio samples, Female: 133, Male: 33 \r Sad: 254 audio samples, Female: 133, Male: 34 \r Sad: 254 audio samples, Female: 133, Male: 35 \r Sad: 254 audio samples, Female: 133, Male: 36 \r Sad: 254 audio samples, Female: 133, Male: 37 \r Sad: 254 audio samples, Female: 133, Male: 38 \r Sad: 254 audio samples, Female: 133, Male: 39 \r Sad: 254 audio samples, Female: 133, Male: 40 \r Sad: 254 audio samples, Female: 133, Male: 41 \r Sad: 254 audio samples, Female: 133, Male: 42 \r Sad: 254 audio samples, Female: 133, Male: 43 \r Sad: 254 audio samples, Female: 133, Male: 44 \r Sad: 254 audio samples, Female: 133, Male: 45 \r Sad: 254 audio samples, Female: 133, Male: 46 \r Sad: 254 audio samples, Female: 133, Male: 47 \r Sad: 254 audio samples, Female: 133, Male: 48 \r Sad: 254 audio samples, Female: 133, Male: 49 \r Sad: 254 audio samples, Female: 133, Male: 50 \r Sad: 254 audio samples, Female: 133, Male: 51 \r Sad: 254 audio samples, Female: 133, Male: 52 \r Sad: 254 audio samples, Female: 133, Male: 53 \r Sad: 254 audio samples, Female: 133, Male: 54 \r Sad: 254 audio samples, Female: 133, Male: 55 \r Sad: 254 audio samples, Female: 133, Male: 56 \r Sad: 254 audio samples, Female: 133, Male: 57 \r Sad: 254 audio samples, Female: 133, Male: 58 \r Sad: 254 audio samples, Female: 133, Male: 59 \r Sad: 254 audio samples, Female: 133, Male: 60 \r Sad: 254 audio samples, Female: 133, Male: 61 \r Sad: 254 audio samples, Female: 133, Male: 62 \r Sad: 254 audio samples, Female: 133, Male: 63 \r Sad: 254 audio samples, Female: 133, Male: 64 \r Sad: 254 audio samples, Female: 133, Male: 65 \r Sad: 254 audio samples, Female: 133, Male: 66 \r Sad: 254 audio samples, Female: 133, Male: 67 \r Sad: 254 audio samples, Female: 133, Male: 68 \r Sad: 254 audio samples, Female: 133, Male: 69 \r Sad: 254 audio samples, Female: 133, Male: 70 \r Sad: 254 audio samples, Female: 133, Male: 71 \r Sad: 254 audio samples, Female: 133, Male: 72 \r Sad: 254 audio samples, Female: 133, Male: 73 \r Sad: 254 audio samples, Female: 133, Male: 74 \r Sad: 254 audio samples, Female: 133, Male: 75 \r Sad: 254 audio samples, Female: 133, Male: 76 \r Sad: 254 audio samples, Female: 133, Male: 77 \r Sad: 254 audio samples, Female: 133, Male: 78 \r Sad: 254 audio samples, Female: 133, Male: 79 \r Sad: 254 audio samples, Female: 133, Male: 80 \r Sad: 254 audio samples, Female: 133, Male: 81 \r Sad: 254 audio samples, Female: 133, Male: 82 \r Sad: 254 audio samples, Female: 133, Male: 83 \r Sad: 254 audio samples, Female: 133, Male: 84 \r Sad: 254 audio samples, Female: 133, Male: 85 \r Sad: 254 audio samples, Female: 133, Male: 86 \r Sad: 254 audio samples, Female: 133, Male: 87 \r Sad: 254 audio samples, Female: 133, Male: 88 \r Sad: 254 audio samples, Female: 133, Male: 89 \r Sad: 254 audio samples, Female: 133, Male: 90 \r Sad: 254 audio samples, Female: 133, Male: 91 \r Sad: 254 audio samples, Female: 133, Male: 92 \r Sad: 254 audio samples, Female: 133, Male: 93 \r Sad: 254 audio samples, Female: 133, Male: 94 \r Sad: 254 audio samples, Female: 133, Male: 95 \r Sad: 254 audio samples, Female: 133, Male: 96 \r Sad: 254 audio samples, Female: 133, Male: 97 \r Sad: 254 audio samples, Female: 133, Male: 98 \r Sad: 254 audio samples, Female: 133, Male: 99 \r Sad: 254 audio samples, Female: 133, Male: 100 \r Sad: 254 audio samples, Female: 133, Male: 101 \r Sad: 254 audio samples, Female: 133, Male: 102 \r Sad: 254 audio samples, Female: 133, Male: 103 \r Sad: 254 audio samples, Female: 133, Male: 104 \r Sad: 254 audio samples, Female: 133, Male: 105 \r Sad: 254 audio samples, Female: 133, Male: 106 \r Sad: 254 audio samples, Female: 133, Male: 107 \r Sad: 254 audio samples, Female: 133, Male: 108 \r Sad: 254 audio samples, Female: 133, Male: 109 \r Sad: 254 audio samples, Female: 133, Male: 110 \r Sad: 254 audio samples, Female: 133, Male: 111 \r Sad: 254 audio samples, Female: 133, Male: 112 \r Sad: 254 audio samples, Female: 133, Male: 113 \r Sad: 254 audio samples, Female: 133, Male: 114 \r Sad: 254 audio samples, Female: 133, Male: 115 \r Sad: 254 audio samples, Female: 133, Male: 116 \r Sad: 254 audio samples, Female: 133, Male: 117 \r Sad: 254 audio samples, Female: 133, Male: 118 \r Sad: 254 audio samples, Female: 133, Male: 119 \r Sad: 254 audio samples, Female: 133, Male: 120 \r Sad: 254 audio samples, Female: 133, Male: 121 "
          ]
        }
      ]
    },
    {
      "cell_type": "code",
      "source": [
        "    count = 0\n",
        "    count2 = 0\n",
        "    count3 = 0\n",
        "\n",
        "    for file in glob.glob(\"/content/drive/MyDrive/IAT481/Merged database/05 W Anger/*/*.wav\"):\n",
        "        count += 1\n",
        "\n",
        "    for file in glob.glob(\"/content/drive/MyDrive/IAT481/Merged database/05 W Anger/Female/*.wav\"):\n",
        "        count2 += 1\n",
        "\n",
        "    for file in glob.glob(\"/content/drive/MyDrive/IAT481/Merged database/05 W Anger/Male/*.wav\"):\n",
        "        count3 += 1\n",
        "\n",
        "        print('\\r' + f' Angry: {count} audio samples,', f'Female: {count2},', f'Male: {count3}', end=' ')"
      ],
      "metadata": {
        "colab": {
          "base_uri": "https://localhost:8080/"
        },
        "id": "Y07GM4msBWg2",
        "outputId": "05ce58e4-2b2e-48f4-9475-e08c2e91d7bb"
      },
      "execution_count": 15,
      "outputs": [
        {
          "output_type": "stream",
          "name": "stdout",
          "text": [
            "\r Angry: 319 audio samples, Female: 163, Male: 1 \r Angry: 319 audio samples, Female: 163, Male: 2 \r Angry: 319 audio samples, Female: 163, Male: 3 \r Angry: 319 audio samples, Female: 163, Male: 4 \r Angry: 319 audio samples, Female: 163, Male: 5 \r Angry: 319 audio samples, Female: 163, Male: 6 \r Angry: 319 audio samples, Female: 163, Male: 7 \r Angry: 319 audio samples, Female: 163, Male: 8 \r Angry: 319 audio samples, Female: 163, Male: 9 \r Angry: 319 audio samples, Female: 163, Male: 10 \r Angry: 319 audio samples, Female: 163, Male: 11 \r Angry: 319 audio samples, Female: 163, Male: 12 \r Angry: 319 audio samples, Female: 163, Male: 13 \r Angry: 319 audio samples, Female: 163, Male: 14 \r Angry: 319 audio samples, Female: 163, Male: 15 \r Angry: 319 audio samples, Female: 163, Male: 16 \r Angry: 319 audio samples, Female: 163, Male: 17 \r Angry: 319 audio samples, Female: 163, Male: 18 \r Angry: 319 audio samples, Female: 163, Male: 19 \r Angry: 319 audio samples, Female: 163, Male: 20 \r Angry: 319 audio samples, Female: 163, Male: 21 \r Angry: 319 audio samples, Female: 163, Male: 22 \r Angry: 319 audio samples, Female: 163, Male: 23 \r Angry: 319 audio samples, Female: 163, Male: 24 \r Angry: 319 audio samples, Female: 163, Male: 25 \r Angry: 319 audio samples, Female: 163, Male: 26 \r Angry: 319 audio samples, Female: 163, Male: 27 \r Angry: 319 audio samples, Female: 163, Male: 28 \r Angry: 319 audio samples, Female: 163, Male: 29 \r Angry: 319 audio samples, Female: 163, Male: 30 \r Angry: 319 audio samples, Female: 163, Male: 31 \r Angry: 319 audio samples, Female: 163, Male: 32 \r Angry: 319 audio samples, Female: 163, Male: 33 \r Angry: 319 audio samples, Female: 163, Male: 34 \r Angry: 319 audio samples, Female: 163, Male: 35 \r Angry: 319 audio samples, Female: 163, Male: 36 \r Angry: 319 audio samples, Female: 163, Male: 37 \r Angry: 319 audio samples, Female: 163, Male: 38 \r Angry: 319 audio samples, Female: 163, Male: 39 \r Angry: 319 audio samples, Female: 163, Male: 40 \r Angry: 319 audio samples, Female: 163, Male: 41 \r Angry: 319 audio samples, Female: 163, Male: 42 \r Angry: 319 audio samples, Female: 163, Male: 43 \r Angry: 319 audio samples, Female: 163, Male: 44 \r Angry: 319 audio samples, Female: 163, Male: 45 \r Angry: 319 audio samples, Female: 163, Male: 46 \r Angry: 319 audio samples, Female: 163, Male: 47 \r Angry: 319 audio samples, Female: 163, Male: 48 \r Angry: 319 audio samples, Female: 163, Male: 49 \r Angry: 319 audio samples, Female: 163, Male: 50 \r Angry: 319 audio samples, Female: 163, Male: 51 \r Angry: 319 audio samples, Female: 163, Male: 52 \r Angry: 319 audio samples, Female: 163, Male: 53 \r Angry: 319 audio samples, Female: 163, Male: 54 \r Angry: 319 audio samples, Female: 163, Male: 55 \r Angry: 319 audio samples, Female: 163, Male: 56 \r Angry: 319 audio samples, Female: 163, Male: 57 \r Angry: 319 audio samples, Female: 163, Male: 58 \r Angry: 319 audio samples, Female: 163, Male: 59 \r Angry: 319 audio samples, Female: 163, Male: 60 \r Angry: 319 audio samples, Female: 163, Male: 61 \r Angry: 319 audio samples, Female: 163, Male: 62 \r Angry: 319 audio samples, Female: 163, Male: 63 \r Angry: 319 audio samples, Female: 163, Male: 64 \r Angry: 319 audio samples, Female: 163, Male: 65 \r Angry: 319 audio samples, Female: 163, Male: 66 \r Angry: 319 audio samples, Female: 163, Male: 67 \r Angry: 319 audio samples, Female: 163, Male: 68 \r Angry: 319 audio samples, Female: 163, Male: 69 \r Angry: 319 audio samples, Female: 163, Male: 70 \r Angry: 319 audio samples, Female: 163, Male: 71 \r Angry: 319 audio samples, Female: 163, Male: 72 \r Angry: 319 audio samples, Female: 163, Male: 73 \r Angry: 319 audio samples, Female: 163, Male: 74 \r Angry: 319 audio samples, Female: 163, Male: 75 \r Angry: 319 audio samples, Female: 163, Male: 76 \r Angry: 319 audio samples, Female: 163, Male: 77 \r Angry: 319 audio samples, Female: 163, Male: 78 \r Angry: 319 audio samples, Female: 163, Male: 79 \r Angry: 319 audio samples, Female: 163, Male: 80 \r Angry: 319 audio samples, Female: 163, Male: 81 \r Angry: 319 audio samples, Female: 163, Male: 82 \r Angry: 319 audio samples, Female: 163, Male: 83 \r Angry: 319 audio samples, Female: 163, Male: 84 \r Angry: 319 audio samples, Female: 163, Male: 85 \r Angry: 319 audio samples, Female: 163, Male: 86 \r Angry: 319 audio samples, Female: 163, Male: 87 \r Angry: 319 audio samples, Female: 163, Male: 88 \r Angry: 319 audio samples, Female: 163, Male: 89 \r Angry: 319 audio samples, Female: 163, Male: 90 \r Angry: 319 audio samples, Female: 163, Male: 91 \r Angry: 319 audio samples, Female: 163, Male: 92 \r Angry: 319 audio samples, Female: 163, Male: 93 \r Angry: 319 audio samples, Female: 163, Male: 94 \r Angry: 319 audio samples, Female: 163, Male: 95 \r Angry: 319 audio samples, Female: 163, Male: 96 \r Angry: 319 audio samples, Female: 163, Male: 97 \r Angry: 319 audio samples, Female: 163, Male: 98 \r Angry: 319 audio samples, Female: 163, Male: 99 \r Angry: 319 audio samples, Female: 163, Male: 100 \r Angry: 319 audio samples, Female: 163, Male: 101 \r Angry: 319 audio samples, Female: 163, Male: 102 \r Angry: 319 audio samples, Female: 163, Male: 103 \r Angry: 319 audio samples, Female: 163, Male: 104 \r Angry: 319 audio samples, Female: 163, Male: 105 \r Angry: 319 audio samples, Female: 163, Male: 106 \r Angry: 319 audio samples, Female: 163, Male: 107 \r Angry: 319 audio samples, Female: 163, Male: 108 \r Angry: 319 audio samples, Female: 163, Male: 109 \r Angry: 319 audio samples, Female: 163, Male: 110 \r Angry: 319 audio samples, Female: 163, Male: 111 \r Angry: 319 audio samples, Female: 163, Male: 112 \r Angry: 319 audio samples, Female: 163, Male: 113 \r Angry: 319 audio samples, Female: 163, Male: 114 \r Angry: 319 audio samples, Female: 163, Male: 115 \r Angry: 319 audio samples, Female: 163, Male: 116 \r Angry: 319 audio samples, Female: 163, Male: 117 \r Angry: 319 audio samples, Female: 163, Male: 118 \r Angry: 319 audio samples, Female: 163, Male: 119 \r Angry: 319 audio samples, Female: 163, Male: 120 \r Angry: 319 audio samples, Female: 163, Male: 121 \r Angry: 319 audio samples, Female: 163, Male: 122 \r Angry: 319 audio samples, Female: 163, Male: 123 \r Angry: 319 audio samples, Female: 163, Male: 124 \r Angry: 319 audio samples, Female: 163, Male: 125 \r Angry: 319 audio samples, Female: 163, Male: 126 \r Angry: 319 audio samples, Female: 163, Male: 127 \r Angry: 319 audio samples, Female: 163, Male: 128 \r Angry: 319 audio samples, Female: 163, Male: 129 \r Angry: 319 audio samples, Female: 163, Male: 130 \r Angry: 319 audio samples, Female: 163, Male: 131 \r Angry: 319 audio samples, Female: 163, Male: 132 \r Angry: 319 audio samples, Female: 163, Male: 133 \r Angry: 319 audio samples, Female: 163, Male: 134 \r Angry: 319 audio samples, Female: 163, Male: 135 \r Angry: 319 audio samples, Female: 163, Male: 136 \r Angry: 319 audio samples, Female: 163, Male: 137 \r Angry: 319 audio samples, Female: 163, Male: 138 \r Angry: 319 audio samples, Female: 163, Male: 139 \r Angry: 319 audio samples, Female: 163, Male: 140 \r Angry: 319 audio samples, Female: 163, Male: 141 \r Angry: 319 audio samples, Female: 163, Male: 142 \r Angry: 319 audio samples, Female: 163, Male: 143 \r Angry: 319 audio samples, Female: 163, Male: 144 \r Angry: 319 audio samples, Female: 163, Male: 145 \r Angry: 319 audio samples, Female: 163, Male: 146 \r Angry: 319 audio samples, Female: 163, Male: 147 \r Angry: 319 audio samples, Female: 163, Male: 148 \r Angry: 319 audio samples, Female: 163, Male: 149 \r Angry: 319 audio samples, Female: 163, Male: 150 \r Angry: 319 audio samples, Female: 163, Male: 151 \r Angry: 319 audio samples, Female: 163, Male: 152 \r Angry: 319 audio samples, Female: 163, Male: 153 \r Angry: 319 audio samples, Female: 163, Male: 154 \r Angry: 319 audio samples, Female: 163, Male: 155 \r Angry: 319 audio samples, Female: 163, Male: 156 "
          ]
        }
      ]
    },
    {
      "cell_type": "code",
      "source": [
        "    count = 0\n",
        "    count2 = 0\n",
        "    count3 = 0\n",
        "\n",
        "    for file in glob.glob(\"/content/drive/MyDrive/IAT481/Merged database/06  A Fear_or_anxiety/*/*.wav\"):\n",
        "        count += 1\n",
        "\n",
        "    for file in glob.glob(\"/content/drive/MyDrive/IAT481/Merged database/06  A Fear_or_anxiety/Female/*.wav\"):\n",
        "        count2 += 1\n",
        "\n",
        "    for file in glob.glob(\"/content/drive/MyDrive/IAT481/Merged database/06  A Fear_or_anxiety/Male/*.wav\"):\n",
        "        count3 += 1\n",
        "\n",
        "        print('\\r' + f' Fear/Anxiety: {count} audio samples,', f'Female: {count2},', f'Male: {count3}', end=' ')"
      ],
      "metadata": {
        "colab": {
          "base_uri": "https://localhost:8080/"
        },
        "id": "YIutILDyBXdN",
        "outputId": "f8f4de1f-8359-469b-ffda-86e008f9c234"
      },
      "execution_count": 14,
      "outputs": [
        {
          "output_type": "stream",
          "name": "stdout",
          "text": [
            "\r Fear/Anxiety: 260 audio samples, Female: 128, Male: 1 \r Fear/Anxiety: 260 audio samples, Female: 128, Male: 2 \r Fear/Anxiety: 260 audio samples, Female: 128, Male: 3 \r Fear/Anxiety: 260 audio samples, Female: 128, Male: 4 \r Fear/Anxiety: 260 audio samples, Female: 128, Male: 5 \r Fear/Anxiety: 260 audio samples, Female: 128, Male: 6 \r Fear/Anxiety: 260 audio samples, Female: 128, Male: 7 \r Fear/Anxiety: 260 audio samples, Female: 128, Male: 8 \r Fear/Anxiety: 260 audio samples, Female: 128, Male: 9 \r Fear/Anxiety: 260 audio samples, Female: 128, Male: 10 \r Fear/Anxiety: 260 audio samples, Female: 128, Male: 11 \r Fear/Anxiety: 260 audio samples, Female: 128, Male: 12 \r Fear/Anxiety: 260 audio samples, Female: 128, Male: 13 \r Fear/Anxiety: 260 audio samples, Female: 128, Male: 14 \r Fear/Anxiety: 260 audio samples, Female: 128, Male: 15 \r Fear/Anxiety: 260 audio samples, Female: 128, Male: 16 \r Fear/Anxiety: 260 audio samples, Female: 128, Male: 17 \r Fear/Anxiety: 260 audio samples, Female: 128, Male: 18 \r Fear/Anxiety: 260 audio samples, Female: 128, Male: 19 \r Fear/Anxiety: 260 audio samples, Female: 128, Male: 20 \r Fear/Anxiety: 260 audio samples, Female: 128, Male: 21 \r Fear/Anxiety: 260 audio samples, Female: 128, Male: 22 \r Fear/Anxiety: 260 audio samples, Female: 128, Male: 23 \r Fear/Anxiety: 260 audio samples, Female: 128, Male: 24 \r Fear/Anxiety: 260 audio samples, Female: 128, Male: 25 \r Fear/Anxiety: 260 audio samples, Female: 128, Male: 26 \r Fear/Anxiety: 260 audio samples, Female: 128, Male: 27 \r Fear/Anxiety: 260 audio samples, Female: 128, Male: 28 \r Fear/Anxiety: 260 audio samples, Female: 128, Male: 29 \r Fear/Anxiety: 260 audio samples, Female: 128, Male: 30 \r Fear/Anxiety: 260 audio samples, Female: 128, Male: 31 \r Fear/Anxiety: 260 audio samples, Female: 128, Male: 32 \r Fear/Anxiety: 260 audio samples, Female: 128, Male: 33 \r Fear/Anxiety: 260 audio samples, Female: 128, Male: 34 \r Fear/Anxiety: 260 audio samples, Female: 128, Male: 35 \r Fear/Anxiety: 260 audio samples, Female: 128, Male: 36 \r Fear/Anxiety: 260 audio samples, Female: 128, Male: 37 \r Fear/Anxiety: 260 audio samples, Female: 128, Male: 38 \r Fear/Anxiety: 260 audio samples, Female: 128, Male: 39 \r Fear/Anxiety: 260 audio samples, Female: 128, Male: 40 \r Fear/Anxiety: 260 audio samples, Female: 128, Male: 41 \r Fear/Anxiety: 260 audio samples, Female: 128, Male: 42 \r Fear/Anxiety: 260 audio samples, Female: 128, Male: 43 \r Fear/Anxiety: 260 audio samples, Female: 128, Male: 44 \r Fear/Anxiety: 260 audio samples, Female: 128, Male: 45 \r Fear/Anxiety: 260 audio samples, Female: 128, Male: 46 \r Fear/Anxiety: 260 audio samples, Female: 128, Male: 47 \r Fear/Anxiety: 260 audio samples, Female: 128, Male: 48 \r Fear/Anxiety: 260 audio samples, Female: 128, Male: 49 \r Fear/Anxiety: 260 audio samples, Female: 128, Male: 50 \r Fear/Anxiety: 260 audio samples, Female: 128, Male: 51 \r Fear/Anxiety: 260 audio samples, Female: 128, Male: 52 \r Fear/Anxiety: 260 audio samples, Female: 128, Male: 53 \r Fear/Anxiety: 260 audio samples, Female: 128, Male: 54 \r Fear/Anxiety: 260 audio samples, Female: 128, Male: 55 \r Fear/Anxiety: 260 audio samples, Female: 128, Male: 56 \r Fear/Anxiety: 260 audio samples, Female: 128, Male: 57 \r Fear/Anxiety: 260 audio samples, Female: 128, Male: 58 \r Fear/Anxiety: 260 audio samples, Female: 128, Male: 59 \r Fear/Anxiety: 260 audio samples, Female: 128, Male: 60 \r Fear/Anxiety: 260 audio samples, Female: 128, Male: 61 \r Fear/Anxiety: 260 audio samples, Female: 128, Male: 62 \r Fear/Anxiety: 260 audio samples, Female: 128, Male: 63 \r Fear/Anxiety: 260 audio samples, Female: 128, Male: 64 \r Fear/Anxiety: 260 audio samples, Female: 128, Male: 65 \r Fear/Anxiety: 260 audio samples, Female: 128, Male: 66 \r Fear/Anxiety: 260 audio samples, Female: 128, Male: 67 \r Fear/Anxiety: 260 audio samples, Female: 128, Male: 68 \r Fear/Anxiety: 260 audio samples, Female: 128, Male: 69 \r Fear/Anxiety: 260 audio samples, Female: 128, Male: 70 \r Fear/Anxiety: 260 audio samples, Female: 128, Male: 71 \r Fear/Anxiety: 260 audio samples, Female: 128, Male: 72 \r Fear/Anxiety: 260 audio samples, Female: 128, Male: 73 \r Fear/Anxiety: 260 audio samples, Female: 128, Male: 74 \r Fear/Anxiety: 260 audio samples, Female: 128, Male: 75 \r Fear/Anxiety: 260 audio samples, Female: 128, Male: 76 \r Fear/Anxiety: 260 audio samples, Female: 128, Male: 77 \r Fear/Anxiety: 260 audio samples, Female: 128, Male: 78 \r Fear/Anxiety: 260 audio samples, Female: 128, Male: 79 \r Fear/Anxiety: 260 audio samples, Female: 128, Male: 80 \r Fear/Anxiety: 260 audio samples, Female: 128, Male: 81 \r Fear/Anxiety: 260 audio samples, Female: 128, Male: 82 \r Fear/Anxiety: 260 audio samples, Female: 128, Male: 83 \r Fear/Anxiety: 260 audio samples, Female: 128, Male: 84 \r Fear/Anxiety: 260 audio samples, Female: 128, Male: 85 \r Fear/Anxiety: 260 audio samples, Female: 128, Male: 86 \r Fear/Anxiety: 260 audio samples, Female: 128, Male: 87 \r Fear/Anxiety: 260 audio samples, Female: 128, Male: 88 \r Fear/Anxiety: 260 audio samples, Female: 128, Male: 89 \r Fear/Anxiety: 260 audio samples, Female: 128, Male: 90 \r Fear/Anxiety: 260 audio samples, Female: 128, Male: 91 \r Fear/Anxiety: 260 audio samples, Female: 128, Male: 92 \r Fear/Anxiety: 260 audio samples, Female: 128, Male: 93 \r Fear/Anxiety: 260 audio samples, Female: 128, Male: 94 \r Fear/Anxiety: 260 audio samples, Female: 128, Male: 95 \r Fear/Anxiety: 260 audio samples, Female: 128, Male: 96 \r Fear/Anxiety: 260 audio samples, Female: 128, Male: 97 \r Fear/Anxiety: 260 audio samples, Female: 128, Male: 98 \r Fear/Anxiety: 260 audio samples, Female: 128, Male: 99 \r Fear/Anxiety: 260 audio samples, Female: 128, Male: 100 \r Fear/Anxiety: 260 audio samples, Female: 128, Male: 101 \r Fear/Anxiety: 260 audio samples, Female: 128, Male: 102 \r Fear/Anxiety: 260 audio samples, Female: 128, Male: 103 \r Fear/Anxiety: 260 audio samples, Female: 128, Male: 104 \r Fear/Anxiety: 260 audio samples, Female: 128, Male: 105 \r Fear/Anxiety: 260 audio samples, Female: 128, Male: 106 \r Fear/Anxiety: 260 audio samples, Female: 128, Male: 107 \r Fear/Anxiety: 260 audio samples, Female: 128, Male: 108 \r Fear/Anxiety: 260 audio samples, Female: 128, Male: 109 \r Fear/Anxiety: 260 audio samples, Female: 128, Male: 110 \r Fear/Anxiety: 260 audio samples, Female: 128, Male: 111 \r Fear/Anxiety: 260 audio samples, Female: 128, Male: 112 \r Fear/Anxiety: 260 audio samples, Female: 128, Male: 113 \r Fear/Anxiety: 260 audio samples, Female: 128, Male: 114 \r Fear/Anxiety: 260 audio samples, Female: 128, Male: 115 \r Fear/Anxiety: 260 audio samples, Female: 128, Male: 116 \r Fear/Anxiety: 260 audio samples, Female: 128, Male: 117 \r Fear/Anxiety: 260 audio samples, Female: 128, Male: 118 \r Fear/Anxiety: 260 audio samples, Female: 128, Male: 119 \r Fear/Anxiety: 260 audio samples, Female: 128, Male: 120 \r Fear/Anxiety: 260 audio samples, Female: 128, Male: 121 \r Fear/Anxiety: 260 audio samples, Female: 128, Male: 122 \r Fear/Anxiety: 260 audio samples, Female: 128, Male: 123 \r Fear/Anxiety: 260 audio samples, Female: 128, Male: 124 \r Fear/Anxiety: 260 audio samples, Female: 128, Male: 125 \r Fear/Anxiety: 260 audio samples, Female: 128, Male: 126 \r Fear/Anxiety: 260 audio samples, Female: 128, Male: 127 \r Fear/Anxiety: 260 audio samples, Female: 128, Male: 128 \r Fear/Anxiety: 260 audio samples, Female: 128, Male: 129 \r Fear/Anxiety: 260 audio samples, Female: 128, Male: 130 \r Fear/Anxiety: 260 audio samples, Female: 128, Male: 131 \r Fear/Anxiety: 260 audio samples, Female: 128, Male: 132 "
          ]
        }
      ]
    },
    {
      "cell_type": "code",
      "source": [
        "    count = 0\n",
        "    count2 = 0\n",
        "    count3 = 0\n",
        "\n",
        "    for file in glob.glob(\"/content/drive/MyDrive/IAT481/Merged database/07 E Disgust/*/*.wav\"):\n",
        "        count += 1\n",
        "\n",
        "    for file in glob.glob(\"/content/drive/MyDrive/IAT481/Merged database/07 E Disgust/Female/*.wav\"):\n",
        "        count2 += 1\n",
        "\n",
        "    for file in glob.glob(\"/content/drive/MyDrive/IAT481/Merged database/07 E Disgust/Male/*.wav\"):\n",
        "        count3 += 1\n",
        "\n",
        "        print('\\r' + f' Disgust: {count} audio samples,', f'Female: {count2},', f'Male: {count3}', end=' ')"
      ],
      "metadata": {
        "colab": {
          "base_uri": "https://localhost:8080/"
        },
        "id": "mm7b_csqBYmn",
        "outputId": "993cff71-dc23-4820-8782-320b59c3a141"
      },
      "execution_count": 13,
      "outputs": [
        {
          "output_type": "stream",
          "name": "stdout",
          "text": [
            "\r Disgust: 238 audio samples, Female: 131, Male: 1 \r Disgust: 238 audio samples, Female: 131, Male: 2 \r Disgust: 238 audio samples, Female: 131, Male: 3 \r Disgust: 238 audio samples, Female: 131, Male: 4 \r Disgust: 238 audio samples, Female: 131, Male: 5 \r Disgust: 238 audio samples, Female: 131, Male: 6 \r Disgust: 238 audio samples, Female: 131, Male: 7 \r Disgust: 238 audio samples, Female: 131, Male: 8 \r Disgust: 238 audio samples, Female: 131, Male: 9 \r Disgust: 238 audio samples, Female: 131, Male: 10 \r Disgust: 238 audio samples, Female: 131, Male: 11 \r Disgust: 238 audio samples, Female: 131, Male: 12 \r Disgust: 238 audio samples, Female: 131, Male: 13 \r Disgust: 238 audio samples, Female: 131, Male: 14 \r Disgust: 238 audio samples, Female: 131, Male: 15 \r Disgust: 238 audio samples, Female: 131, Male: 16 \r Disgust: 238 audio samples, Female: 131, Male: 17 \r Disgust: 238 audio samples, Female: 131, Male: 18 \r Disgust: 238 audio samples, Female: 131, Male: 19 \r Disgust: 238 audio samples, Female: 131, Male: 20 \r Disgust: 238 audio samples, Female: 131, Male: 21 \r Disgust: 238 audio samples, Female: 131, Male: 22 \r Disgust: 238 audio samples, Female: 131, Male: 23 \r Disgust: 238 audio samples, Female: 131, Male: 24 \r Disgust: 238 audio samples, Female: 131, Male: 25 \r Disgust: 238 audio samples, Female: 131, Male: 26 \r Disgust: 238 audio samples, Female: 131, Male: 27 \r Disgust: 238 audio samples, Female: 131, Male: 28 \r Disgust: 238 audio samples, Female: 131, Male: 29 \r Disgust: 238 audio samples, Female: 131, Male: 30 \r Disgust: 238 audio samples, Female: 131, Male: 31 \r Disgust: 238 audio samples, Female: 131, Male: 32 \r Disgust: 238 audio samples, Female: 131, Male: 33 \r Disgust: 238 audio samples, Female: 131, Male: 34 \r Disgust: 238 audio samples, Female: 131, Male: 35 \r Disgust: 238 audio samples, Female: 131, Male: 36 \r Disgust: 238 audio samples, Female: 131, Male: 37 \r Disgust: 238 audio samples, Female: 131, Male: 38 \r Disgust: 238 audio samples, Female: 131, Male: 39 \r Disgust: 238 audio samples, Female: 131, Male: 40 \r Disgust: 238 audio samples, Female: 131, Male: 41 \r Disgust: 238 audio samples, Female: 131, Male: 42 \r Disgust: 238 audio samples, Female: 131, Male: 43 \r Disgust: 238 audio samples, Female: 131, Male: 44 \r Disgust: 238 audio samples, Female: 131, Male: 45 \r Disgust: 238 audio samples, Female: 131, Male: 46 \r Disgust: 238 audio samples, Female: 131, Male: 47 \r Disgust: 238 audio samples, Female: 131, Male: 48 \r Disgust: 238 audio samples, Female: 131, Male: 49 \r Disgust: 238 audio samples, Female: 131, Male: 50 \r Disgust: 238 audio samples, Female: 131, Male: 51 \r Disgust: 238 audio samples, Female: 131, Male: 52 \r Disgust: 238 audio samples, Female: 131, Male: 53 \r Disgust: 238 audio samples, Female: 131, Male: 54 \r Disgust: 238 audio samples, Female: 131, Male: 55 \r Disgust: 238 audio samples, Female: 131, Male: 56 \r Disgust: 238 audio samples, Female: 131, Male: 57 \r Disgust: 238 audio samples, Female: 131, Male: 58 \r Disgust: 238 audio samples, Female: 131, Male: 59 \r Disgust: 238 audio samples, Female: 131, Male: 60 \r Disgust: 238 audio samples, Female: 131, Male: 61 \r Disgust: 238 audio samples, Female: 131, Male: 62 \r Disgust: 238 audio samples, Female: 131, Male: 63 \r Disgust: 238 audio samples, Female: 131, Male: 64 \r Disgust: 238 audio samples, Female: 131, Male: 65 \r Disgust: 238 audio samples, Female: 131, Male: 66 \r Disgust: 238 audio samples, Female: 131, Male: 67 \r Disgust: 238 audio samples, Female: 131, Male: 68 \r Disgust: 238 audio samples, Female: 131, Male: 69 \r Disgust: 238 audio samples, Female: 131, Male: 70 \r Disgust: 238 audio samples, Female: 131, Male: 71 \r Disgust: 238 audio samples, Female: 131, Male: 72 \r Disgust: 238 audio samples, Female: 131, Male: 73 \r Disgust: 238 audio samples, Female: 131, Male: 74 \r Disgust: 238 audio samples, Female: 131, Male: 75 \r Disgust: 238 audio samples, Female: 131, Male: 76 \r Disgust: 238 audio samples, Female: 131, Male: 77 \r Disgust: 238 audio samples, Female: 131, Male: 78 \r Disgust: 238 audio samples, Female: 131, Male: 79 \r Disgust: 238 audio samples, Female: 131, Male: 80 \r Disgust: 238 audio samples, Female: 131, Male: 81 \r Disgust: 238 audio samples, Female: 131, Male: 82 \r Disgust: 238 audio samples, Female: 131, Male: 83 \r Disgust: 238 audio samples, Female: 131, Male: 84 \r Disgust: 238 audio samples, Female: 131, Male: 85 \r Disgust: 238 audio samples, Female: 131, Male: 86 \r Disgust: 238 audio samples, Female: 131, Male: 87 \r Disgust: 238 audio samples, Female: 131, Male: 88 \r Disgust: 238 audio samples, Female: 131, Male: 89 \r Disgust: 238 audio samples, Female: 131, Male: 90 \r Disgust: 238 audio samples, Female: 131, Male: 91 \r Disgust: 238 audio samples, Female: 131, Male: 92 \r Disgust: 238 audio samples, Female: 131, Male: 93 \r Disgust: 238 audio samples, Female: 131, Male: 94 \r Disgust: 238 audio samples, Female: 131, Male: 95 \r Disgust: 238 audio samples, Female: 131, Male: 96 \r Disgust: 238 audio samples, Female: 131, Male: 97 \r Disgust: 238 audio samples, Female: 131, Male: 98 \r Disgust: 238 audio samples, Female: 131, Male: 99 \r Disgust: 238 audio samples, Female: 131, Male: 100 \r Disgust: 238 audio samples, Female: 131, Male: 101 \r Disgust: 238 audio samples, Female: 131, Male: 102 \r Disgust: 238 audio samples, Female: 131, Male: 103 \r Disgust: 238 audio samples, Female: 131, Male: 104 \r Disgust: 238 audio samples, Female: 131, Male: 105 \r Disgust: 238 audio samples, Female: 131, Male: 106 \r Disgust: 238 audio samples, Female: 131, Male: 107 "
          ]
        }
      ]
    },
    {
      "cell_type": "code",
      "source": [
        "    count = 0\n",
        "    count2 = 0\n",
        "    count3 = 0\n",
        "\n",
        "    for file in glob.glob(\"/content/drive/MyDrive/IAT481/Merged database/08 Surprise/*/*.wav\"):\n",
        "        count += 1\n",
        "\n",
        "    for file in glob.glob(\"/content/drive/MyDrive/IAT481/Merged database/08 Surprise/Female/*.wav\"):\n",
        "        count2 += 1\n",
        "\n",
        "    for file in glob.glob(\"/content/drive/MyDrive/IAT481/Merged database/08 Surprise/Male/*.wav\"):\n",
        "        count3 += 1\n",
        "\n",
        "        print('\\r' + f' Surprise: {count} audio samples,', f'Female: {count2},', f'Male: {count3}', end=' ')"
      ],
      "metadata": {
        "colab": {
          "base_uri": "https://localhost:8080/"
        },
        "id": "fSDvi3g4BZoD",
        "outputId": "1c1c4cc3-6d76-4f88-cd29-aa176b639037"
      },
      "execution_count": 12,
      "outputs": [
        {
          "output_type": "stream",
          "name": "stdout",
          "text": [
            " Surprise: 191 audio samples, Female: 96, Male: 95 "
          ]
        }
      ]
    },
    {
      "cell_type": "markdown",
      "source": [
        "**Analysis**\n",
        "\n",
        "In terms of gender balance, there are 72 more female voices in the merged database, meaning that females will be more 'studied' by our final product and thus perhaps be easier to accurately represent.\n",
        "\n",
        "Furthermore, upon evaluating the gender balance per emotional category, it is to be noted that 'Disgust' has 24 more female voice recordings than males, which is significantly more than other categories that also have imbalances, such as 'Happy' with 16 more females, 'Calm' with 13 more females, and 'Sad' with 12 more females. The impact of this may be that 'Disgust' voices from males will be less predictable for the AI model than female voices.\n",
        "\n",
        "As for emotional categories, 'Angry' has the most robust source of data, while 'Neutral' has the least - as a result, perhaps our final AI model will be likely to be able to less accurately find 'Neutral' voices over 'Angry' voices.\n"
      ],
      "metadata": {
        "id": "bVab3A_PBpWK"
      }
    },
    {
      "cell_type": "code",
      "source": [
        "gender = ['male', 'female']\n",
        "count = [949, 1021]\n",
        "\n",
        "plt.figure(figsize=(20,5))\n",
        "plt.subplot(1,3,1)\n",
        "\n",
        "plt.bar(x=gender, height=count)\n",
        "plt.xticks(ticks=range(2), labels = [g for g in gender], fontsize=10)\n",
        "plt.xlabel('Gender')\n",
        "\n",
        "plt.tick_params(labelsize=16)\n",
        "plt.ylabel('Total')"
      ],
      "metadata": {
        "colab": {
          "base_uri": "https://localhost:8080/",
          "height": 488
        },
        "id": "VtOYIccqBehZ",
        "outputId": "4e8dd347-6eab-4c33-8fa9-9f837e6ac643"
      },
      "execution_count": 17,
      "outputs": [
        {
          "output_type": "execute_result",
          "data": {
            "text/plain": [
              "Text(0, 0.5, 'Total')"
            ]
          },
          "metadata": {},
          "execution_count": 17
        },
        {
          "output_type": "display_data",
          "data": {
            "text/plain": [
              "<Figure size 2000x500 with 1 Axes>"
            ],
            "image/png": "[encoded data removed]"
          },
          "metadata": {}
        }
      ]
    },
    {
      "cell_type": "code",
      "source": [
        "#Stacked bar chart reference: https://matplotlib.org/stable/gallery/lines_bars_and_markers/bar_stacked.html\n",
        "\n",
        "emotions = ('Neutral', 'Calm', 'Happy', 'Sad', 'Angry', 'Fear', 'Digust', 'Surprise')\n",
        "count = {\n",
        "    # 'Total': (175, 271, 262, 254, 319, 260, 238, 191),\n",
        "    'Male': np.array([86, 129, 123, 121, 156, 132, 107, 95]),\n",
        "    'Female': np.array([89, 142, 139, 133, 163, 128, 131, 96]),\n",
        "}\n",
        "\n",
        "fig, ax = plt.subplots()\n",
        "bottom = np.zeros(8)\n",
        "width = 0.75\n",
        "\n",
        "\n",
        "for boolean, c in count.items():\n",
        "    p = ax.bar(emotions, c, width, label=boolean, bottom=bottom)\n",
        "    bottom += c\n",
        "\n",
        "ax.set_ylabel('Count')\n",
        "ax.set_title('Database')\n",
        "ax.legend(loc='upper left', ncols=2)\n",
        "\n",
        "plt.show()"
      ],
      "metadata": {
        "colab": {
          "base_uri": "https://localhost:8080/",
          "height": 452
        },
        "id": "_WfZWrJSBgxE",
        "outputId": "4738ec7f-bb20-4f35-bd37-0a3cc0b4ed6f"
      },
      "execution_count": 18,
      "outputs": [
        {
          "output_type": "display_data",
          "data": {
            "text/plain": [
              "<Figure size 640x480 with 1 Axes>"
            ],
            "image/png": "[encoded data removed]"
          },
          "metadata": {}
        }
      ]
    },
    {
      "cell_type": "code",
      "source": [
        "emotions = ('Neutral', 'Calm', 'Happy', 'Sad', 'Angry', 'Fear', 'Digust', 'Surprise')\n",
        "count = {\n",
        "    # 'Total': (175, 271, 262, 254, 319, 260, 238, 191),\n",
        "    'Male': (86, 129, 123, 121, 156, 132, 107, 95),\n",
        "    'Female': (89, 142, 139, 133, 163, 128, 131, 96),\n",
        "}\n",
        "\n",
        "x = np.arange(len(emotions))\n",
        "fig, ax = plt.subplots(layout='constrained')\n",
        "width = 0.4\n",
        "multiplier = 0\n",
        "\n",
        "for boolean, c in count.items():\n",
        "    offset = width * multiplier\n",
        "    p = ax.bar(x + offset, c, width, label=boolean)\n",
        "    ax.bar_label(p, padding=3)\n",
        "    multiplier += 1\n",
        "\n",
        "ax.set_ylabel('Count')\n",
        "ax.set_title('Database')\n",
        "ax.legend(loc='upper left', ncols=2)\n",
        "ax.set_xticks(x + width, emotions)\n",
        "ax.set_ylim(0, 175)\n",
        "\n",
        "plt.show()"
      ],
      "metadata": {
        "colab": {
          "base_uri": "https://localhost:8080/",
          "height": 508
        },
        "id": "4ny7sR0wBjFP",
        "outputId": "2da36d4c-126a-4c58-c2e5-03ebec37242d"
      },
      "execution_count": 19,
      "outputs": [
        {
          "output_type": "display_data",
          "data": {
            "text/plain": [
              "<Figure size 640x480 with 1 Axes>"
            ],
            "image/png": "[encoded data removed]"
          },
          "metadata": {}
        }
      ]
    },
    {
      "cell_type": "markdown",
      "source": [
        "**Getting functions necessary for dataset**"
      ],
      "metadata": {
        "id": "daPW-eATCGIs"
      }
    },
    {
      "cell_type": "code",
      "source": [
        "import librosa\n",
        "\n",
        "def feature_chromagram(waveform, sample_rate):\n",
        "    # STFT computed here explicitly; mel spectrogram and MFCC functions do this under the hood\n",
        "    stft_spectrogram=np.abs(librosa.stft(waveform))\n",
        "    #print(stft_spectrogram.shape)\n",
        "    # Produce the chromagram for all STFT frames and get the mean of each column of the resulting matrix to create a feature array\n",
        "    chromagram=np.mean(librosa.feature.chroma_stft(S=stft_spectrogram, sr=sample_rate).T,axis=0)\n",
        "    #print(chromagram.shape)\n",
        "    return chromagram\n",
        "\n",
        "def feature_melspectrogram(waveform, sample_rate):\n",
        "    # Produce the mel spectrogram for all STFT frames and get the mean of each column of the resulting matrix to create a feature array\n",
        "    # Using 8khz as upper frequency bound should be enough for most speech classification tasks\n",
        "    melspectrogram=np.mean(librosa.feature.melspectrogram(y=waveform, sr=sample_rate, n_mels=128, fmax=8000).T,axis=0)\n",
        "    return melspectrogram\n",
        "\n",
        "def feature_mfcc(waveform, sample_rate):\n",
        "    # Compute the MFCCs for all STFT frames and get the mean of each column of the resulting matrix to create a feature array\n",
        "    # 40 filterbanks = 40 coefficients\n",
        "    mfc_coefficients=np.mean(librosa.feature.mfcc(y=waveform, sr=sample_rate, n_mfcc=40).T, axis=0)\n",
        "    return mfc_coefficients"
      ],
      "metadata": {
        "id": "BEVWR8nsAio4"
      },
      "execution_count": 4,
      "outputs": []
    },
    {
      "cell_type": "code",
      "source": [
        "def get_features(file):\n",
        "    # load an individual soundfile\n",
        "     with soundfile.SoundFile(file) as audio:\n",
        "        waveform = audio.read(dtype=\"float32\")\n",
        "        sample_rate = audio.samplerate\n",
        "        # compute features of soundfile\n",
        "        chromagram = feature_chromagram(waveform, sample_rate)\n",
        "        melspectrogram = feature_melspectrogram(waveform, sample_rate)\n",
        "        mfc_coefficients = feature_mfcc(waveform, sample_rate)\n",
        "        feature_matrix=np.array([])\n",
        "\n",
        "        # use np.hstack to stack our feature arrays horizontally to create a feature matrix\n",
        "        feature_matrix = np.hstack((chromagram, melspectrogram, mfc_coefficients))\n",
        "\n",
        "        return feature_matrix"
      ],
      "metadata": {
        "id": "4MOMMsB_AkTG"
      },
      "execution_count": 5,
      "outputs": []
    },
    {
      "cell_type": "markdown",
      "source": [
        "**Performing feature extraction on the dataset**"
      ],
      "metadata": {
        "id": "blHPbb1WB86R"
      }
    },
    {
      "cell_type": "code",
      "source": [
        "import os, glob\n",
        "\n",
        "def load_Neutral():\n",
        "\n",
        "    count = 0\n",
        "    X,y=[],[]\n",
        "    for file in glob.glob(\"/content/drive/MyDrive/IAT481/Merged database/01 Neutral/*/*.wav\"):\n",
        "        file_name=os.path.basename(file)\n",
        "\n",
        "        count += 1\n",
        "        features = get_features(file)\n",
        "\n",
        "        X.append(features)\n",
        "        y.append(\"neutral\")\n",
        "        # '\\r' + end='' results in printing over same line\n",
        "        # print('\\r' + f' Processed {count}/{1435} audio samples',end=' ')\n",
        "\n",
        "    return np.array(X), np.array(y)\n",
        "\n",
        "def load_Calm():\n",
        "\n",
        "    count = 0\n",
        "    X,y=[],[]\n",
        "    for file in glob.glob(\"/content/drive/MyDrive/IAT481/Merged database/02 L Calm/*/*.wav\"):\n",
        "        file_name=os.path.basename(file)\n",
        "\n",
        "        count += 1\n",
        "        features = get_features(file)\n",
        "\n",
        "        X.append(features)\n",
        "        y.append(\"calm\")\n",
        "\n",
        "    return np.array(X), np.array(y)\n",
        "\n",
        "def load_Happiness():\n",
        "\n",
        "    count = 0\n",
        "    X,y=[],[]\n",
        "    for file in glob.glob(\"/content/drive/MyDrive/IAT481/Merged database/03 F Happiness/*/*.wav\"):\n",
        "        file_name=os.path.basename(file)\n",
        "\n",
        "        count += 1\n",
        "        features = get_features(file)\n",
        "\n",
        "        X.append(features)\n",
        "        y.append(\"happy\")\n",
        "\n",
        "    return np.array(X), np.array(y)\n",
        "\n",
        "def load_Sadness():\n",
        "\n",
        "    count = 0\n",
        "    X,y=[],[]\n",
        "    for file in glob.glob(\"/content/drive/MyDrive/IAT481/Merged database/04 T Sadness/*/*.wav\"):\n",
        "        file_name=os.path.basename(file)\n",
        "\n",
        "        count += 1\n",
        "        features = get_features(file)\n",
        "\n",
        "        X.append(features)\n",
        "        y.append(\"sad\")\n",
        "\n",
        "    return np.array(X), np.array(y)\n",
        "\n",
        "def load_Anger():\n",
        "\n",
        "    count = 0\n",
        "    X,y=[],[]\n",
        "    for file in glob.glob(\"/content/drive/MyDrive/IAT481/Merged database/05 W Anger/*/*.wav\"):\n",
        "        file_name=os.path.basename(file)\n",
        "\n",
        "        count += 1\n",
        "        features = get_features(file)\n",
        "\n",
        "        X.append(features)\n",
        "        y.append(\"angry\")\n",
        "\n",
        "    return np.array(X), np.array(y)\n",
        "\n",
        "def load_Fear():\n",
        "\n",
        "    count = 0\n",
        "    X,y=[],[]\n",
        "    for file in glob.glob(\"/content/drive/MyDrive/IAT481/Merged database/06  A Fear_or_anxiety/*/*.wav\"):\n",
        "        file_name=os.path.basename(file)\n",
        "\n",
        "        count += 1\n",
        "        features = get_features(file)\n",
        "\n",
        "        X.append(features)\n",
        "        y.append(\"fear\")\n",
        "\n",
        "    return np.array(X), np.array(y)\n",
        "\n",
        "def load_Disgust():\n",
        "\n",
        "    count = 0\n",
        "    X,y=[],[]\n",
        "    for file in glob.glob(\"/content/drive/MyDrive/IAT481/Merged database/07 E Disgust/*/*.wav\"):\n",
        "        file_name=os.path.basename(file)\n",
        "\n",
        "        count += 1\n",
        "        features = get_features(file)\n",
        "\n",
        "        X.append(features)\n",
        "        y.append(\"disgust\")\n",
        "\n",
        "    return np.array(X), np.array(y)\n",
        "\n",
        "def load_Surprise():\n",
        "\n",
        "    count = 0\n",
        "    X,y=[],[]\n",
        "    for file in glob.glob(\"/content/drive/MyDrive/IAT481/Merged database/08 Surprise/*/*.wav\"):\n",
        "        file_name=os.path.basename(file)\n",
        "\n",
        "        count += 1\n",
        "        features = get_features(file)\n",
        "\n",
        "        X.append(features)\n",
        "        y.append(\"surprise\")\n",
        "\n",
        "    return np.array(X), np.array(y)"
      ],
      "metadata": {
        "id": "RqcOLi-ZAnmS"
      },
      "execution_count": 7,
      "outputs": []
    },
    {
      "cell_type": "markdown",
      "source": [],
      "metadata": {
        "id": "G81yLTVL_9Oz"
      }
    }
  ]
}